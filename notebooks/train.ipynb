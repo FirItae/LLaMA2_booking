{
  "cells": [
    {
      "cell_type": "markdown",
      "metadata": {
        "id": "y9tMfC0Yjh15"
      },
      "source": [
        "# Install libraries"
      ]
    },
    {
      "cell_type": "code",
      "execution_count": null,
      "metadata": {
        "collapsed": true,
        "id": "la8EddLuRzXf"
      },
      "outputs": [],
      "source": [
        "# # installs\n",
        "# !pip install -i https://pypi.org/simple/ bitsandbytes\n",
        "# !pip install accelerate\n",
        "# !pip install wandb\n",
        "# !pip install peft\n",
        "# !pip install datasets\n"
      ]
    },
    {
      "cell_type": "markdown",
      "metadata": {
        "id": "KaORitt8SThA"
      },
      "source": [
        "# Logins\n"
      ]
    },
    {
      "cell_type": "code",
      "execution_count": null,
      "metadata": {
        "collapsed": true,
        "id": "T3iAW6jcSRnI"
      },
      "outputs": [],
      "source": [
        "# from google.colab import drive\n",
        "# drive.mount('/content/drive')"
      ]
    },
    {
      "cell_type": "code",
      "execution_count": null,
      "metadata": {
        "id": "V-QS-6lLSaRv"
      },
      "outputs": [],
      "source": [
        "import wandb\n",
        "# wandb.login()"
      ]
    },
    {
      "cell_type": "code",
      "execution_count": null,
      "metadata": {
        "id": "Ja_uEBI9SgBR"
      },
      "outputs": [],
      "source": [
        "# from huggingface_hub import notebook_login\n",
        "# notebook_login()"
      ]
    },
    {
      "cell_type": "markdown",
      "metadata": {
        "id": "cDZGhdsDjuLA"
      },
      "source": [
        "# Set varibles"
      ]
    },
    {
      "cell_type": "code",
      "execution_count": null,
      "metadata": {
        "id": "8nCjMdawTwlK"
      },
      "outputs": [],
      "source": [
        "import os\n",
        "#setting the environment variable\n",
        "os.environ[\"WANDB_PROJECT\"] = \"llama_for_booking_travel\"\n",
        "os.environ[\"WANDB_LOG_MODEL\"] = \"checkpoint\""
      ]
    },
    {
      "cell_type": "code",
      "execution_count": null,
      "metadata": {
        "id": "buOu398Ov7LV"
      },
      "outputs": [],
      "source": [
        "model_name = 'KvrParaskevi/Llama-2-7b-Hotel-Booking-Model'\n",
        "output_dir =  '/content/drive/MyDrive/llama_booking'\n"
      ]
    },
    {
      "cell_type": "markdown",
      "metadata": {
        "id": "q9FCan55ShSx"
      },
      "source": [
        "# Imports"
      ]
    },
    {
      "cell_type": "code",
      "execution_count": null,
      "metadata": {
        "id": "N8iXhn-FSj1C"
      },
      "outputs": [],
      "source": [
        "# imports\n",
        "from transformers import AutoTokenizer, BitsAndBytesConfig,AutoModelForCausalLM, DataCollatorForLanguageModeling, TrainingArguments, Trainer\n",
        "from peft import LoraConfig, TaskType, get_peft_model, AutoPeftModelForCausalLM\n",
        "import torch\n",
        "\n",
        "from transformers.integrations import WandbCallback\n",
        "import pandas as pd\n",
        "\n",
        "from datasets import load_from_disk\n"
      ]
    },
    {
      "cell_type": "markdown",
      "metadata": {
        "id": "DH9mOu7ZSkbE"
      },
      "source": [
        "# Download model"
      ]
    },
    {
      "cell_type": "code",
      "execution_count": null,
      "metadata": {
        "id": "WF8BQK1hS2PZ"
      },
      "outputs": [],
      "source": [
        "# Configuration for quantization\n",
        "quantization_config = BitsAndBytesConfig(\n",
        "    load_in_4bit=True,  # Load weights in 4-bit format\n",
        "    bnb_4bit_compute_dtype=torch.float16  # Use 16-bit floating point for 4-bit computations\n",
        ")"
      ]
    },
    {
      "cell_type": "code",
      "execution_count": null,
      "metadata": {
        "colab": {
          "base_uri": "https://localhost:8080/",
          "height": 222,
          "referenced_widgets": [
            "02aa094543f4431dbf9de260316dd59c",
            "428d5ea724334587b74e2c6be84708ed",
            "38b60ee1c4ff465dbcee6c6d0ef43e98",
            "1987d75847914a958f6f58c197640eeb",
            "856e09089cb94f49bef613edd1a8f6d0",
            "7779d7dd9f924f53b18cc9dc674817a9",
            "4d00b1272dc747c982493d5dc131c335",
            "210e49aeef3d4e7ba5f1e9cedd68b148",
            "c1394350b6034240bce387620e6d2560",
            "9671116fd5d9440bae00687fdc00fbe5",
            "63f39c94816b4432b6bda2dc3e94ad21"
          ]
        },
        "id": "XwhsKw6eS28u",
        "outputId": "ddb59f6b-f014-41b3-94e2-50d9a1de14d2"
      },
      "outputs": [
        {
          "name": "stderr",
          "output_type": "stream",
          "text": [
            "/usr/local/lib/python3.10/dist-packages/huggingface_hub/file_download.py:1132: FutureWarning: `resume_download` is deprecated and will be removed in version 1.0.0. Downloads always resume when possible. If you want to force a new download, use `force_download=True`.\n",
            "  warnings.warn(\n",
            "/usr/local/lib/python3.10/dist-packages/huggingface_hub/utils/_token.py:89: UserWarning: \n",
            "The secret `HF_TOKEN` does not exist in your Colab secrets.\n",
            "To authenticate with the Hugging Face Hub, create a token in your settings tab (https://huggingface.co/settings/tokens), set it as secret in your Google Colab and restart your session.\n",
            "You will be able to reuse this secret in all of your notebooks.\n",
            "Please note that authentication is recommended but still optional to access public models or datasets.\n",
            "  warnings.warn(\n",
            "`low_cpu_mem_usage` was None, now set to True since model is quantized.\n"
          ]
        },
        {
          "data": {
            "application/vnd.jupyter.widget-view+json": {
              "model_id": "02aa094543f4431dbf9de260316dd59c",
              "version_major": 2,
              "version_minor": 0
            },
            "text/plain": [
              "Loading checkpoint shards:   0%|          | 0/3 [00:00<?, ?it/s]"
            ]
          },
          "metadata": {},
          "output_type": "display_data"
        }
      ],
      "source": [
        "# Load the model with quantization configuration\n",
        "model = AutoModelForCausalLM.from_pretrained(model_name, quantization_config=quantization_config)"
      ]
    },
    {
      "cell_type": "markdown",
      "metadata": {
        "id": "MkigR8FpUrlO"
      },
      "source": [
        "#  Add adapter"
      ]
    },
    {
      "cell_type": "code",
      "execution_count": null,
      "metadata": {
        "id": "Pmq0N1VZUrIz"
      },
      "outputs": [],
      "source": [
        "# Configuration for LoRA (Low-Rank Adaptation)\n",
        "lora_config = LoraConfig(\n",
        "    target_modules=[\"q_proj\", \"v_proj\"],  # Target modules for adaptation\n",
        "    lora_dropout=0.05,  # Dropout probability for LoRA\n",
        "    task_type=\"CAUSAL_LM\"  # Type of task (Causal Language Modeling)\n",
        ")"
      ]
    },
    {
      "cell_type": "code",
      "execution_count": null,
      "metadata": {
        "colab": {
          "base_uri": "https://localhost:8080/"
        },
        "id": "Cb60o1kfTCTY",
        "outputId": "5a533710-af5e-4d0c-bc54-d1f52fe4bc77"
      },
      "outputs": [
        {
          "name": "stdout",
          "output_type": "stream",
          "text": [
            "trainable params: 4,194,304 || all params: 6,742,609,920 || trainable%: 0.06220594176090199\n"
          ]
        }
      ],
      "source": [
        "# Obtain a LoRA model\n",
        "lora_model = get_peft_model(model, lora_config, adapter_name='booking' )\n",
        "lora_model.print_trainable_parameters() # Print trainable parameters of the LoRA model"
      ]
    },
    {
      "cell_type": "markdown",
      "metadata": {
        "id": "gb0yqJgAINGG"
      },
      "source": [
        "trainable params: 4,194,304 || all params: 6,742,609,920 || trainable%: 0.06220594176090199"
      ]
    },
    {
      "cell_type": "code",
      "execution_count": null,
      "metadata": {
        "colab": {
          "base_uri": "https://localhost:8080/"
        },
        "id": "Cb9400fCpjk8",
        "outputId": "5fb8d4bb-a955-46d3-ed14-8d4c2e60c52b"
      },
      "outputs": [
        {
          "data": {
            "text/plain": [
              "['booking']"
            ]
          },
          "execution_count": 19,
          "metadata": {},
          "output_type": "execute_result"
        }
      ],
      "source": [
        "# Check the active adapters in the LoRA model\n",
        "lora_model.active_adapters"
      ]
    },
    {
      "cell_type": "markdown",
      "metadata": {
        "id": "p1QWATW9IPaZ"
      },
      "source": [
        "['booking']"
      ]
    },
    {
      "cell_type": "markdown",
      "metadata": {
        "id": "jYY2IdGGTDsN"
      },
      "source": [
        "# Load dataset"
      ]
    },
    {
      "cell_type": "code",
      "execution_count": null,
      "metadata": {
        "colab": {
          "base_uri": "https://localhost:8080/"
        },
        "id": "siNE6piTTKo5",
        "outputId": "fa793c32-85e1-4333-81d7-7a5d02db5905"
      },
      "outputs": [
        {
          "data": {
            "text/plain": [
              "Dataset({\n",
              "    features: ['system', 'user', 'assistant', 'text'],\n",
              "    num_rows: 3355\n",
              "})"
            ]
          },
          "execution_count": 20,
          "metadata": {},
          "output_type": "execute_result"
        }
      ],
      "source": [
        "# Load the dataset\n",
        "dataset= load_from_disk('data')\n",
        "dataset"
      ]
    },
    {
      "cell_type": "code",
      "execution_count": null,
      "metadata": {
        "colab": {
          "base_uri": "https://localhost:8080/"
        },
        "id": "mMZtZ3TnTnfE",
        "outputId": "d4f41cc8-d890-4775-acc7-e57d7e9b6cd6"
      },
      "outputs": [
        {
          "data": {
            "text/plain": [
              "DatasetDict({\n",
              "    train: Dataset({\n",
              "        features: ['system', 'user', 'assistant', 'text'],\n",
              "        num_rows: 3019\n",
              "    })\n",
              "    test: Dataset({\n",
              "        features: ['system', 'user', 'assistant', 'text'],\n",
              "        num_rows: 336\n",
              "    })\n",
              "})"
            ]
          },
          "execution_count": 21,
          "metadata": {},
          "output_type": "execute_result"
        }
      ],
      "source": [
        "# Split the dataset into training and validation subsets\n",
        "dataset = dataset.train_test_split(test_size=0.1)\n",
        "dataset"
      ]
    },
    {
      "cell_type": "code",
      "execution_count": null,
      "metadata": {
        "id": "6cRzjmfmUNkd"
      },
      "outputs": [],
      "source": [
        "# Instantiate a tokenizer from a pre-trained model\n",
        "tokenizer = AutoTokenizer.from_pretrained(model_name)"
      ]
    },
    {
      "cell_type": "code",
      "execution_count": null,
      "metadata": {
        "colab": {
          "base_uri": "https://localhost:8080/",
          "height": 285,
          "referenced_widgets": [
            "14d2771c737a479298cf43814ad955c9",
            "8e21fe2f72764b6d9aa0b49cd65c7932",
            "02f0b572f82a444f97570f320633a598",
            "2c6f7f7efedb44be99714d06e02a9bde",
            "6f8043cf6d47418ab481561f1bb72bbd",
            "6bda24c77dd6462fb484ac9d275a1e38",
            "45ef1322ecba4307ba506e4406d7d3e8",
            "98325f0662ce45538ee5f63859861b78",
            "149c1d9a783b4002b7e93347f0f399f0",
            "cd1f112d093c4bde90d53aa442c84020",
            "f29aa7b8733e495ba7c1d9061b9be3e9",
            "93067ab03a8f4b9296c54fb6dd9682b8",
            "b4999442f9ab4a06836664c8bb371934",
            "bfc606c2ae974172b702b24231a6d05a",
            "066dcdd65a0f4a7b88dfd51caf3771f4",
            "3e16ef67d19242eb95a4cfa9fed84810",
            "0f75c64c1339430c92b0a0a6a233b4a1",
            "aa2ead83c39f4e65bafcb12cb057b34d",
            "5bda635aee0e44f494cfabca7551fc7a",
            "41a7ffb764c84e88b436c869dae10e45",
            "9b87eca2d26d406185e0f716058642ca",
            "01525a959b2f4803bc7d17904125299f"
          ]
        },
        "id": "db_5hi6YUSx-",
        "outputId": "5964ca24-43b5-49cf-ac2f-e84e4d88f570"
      },
      "outputs": [
        {
          "data": {
            "application/vnd.jupyter.widget-view+json": {
              "model_id": "14d2771c737a479298cf43814ad955c9",
              "version_major": 2,
              "version_minor": 0
            },
            "text/plain": [
              "Map:   0%|          | 0/3019 [00:00<?, ? examples/s]"
            ]
          },
          "metadata": {},
          "output_type": "display_data"
        },
        {
          "data": {
            "application/vnd.jupyter.widget-view+json": {
              "model_id": "93067ab03a8f4b9296c54fb6dd9682b8",
              "version_major": 2,
              "version_minor": 0
            },
            "text/plain": [
              "Map:   0%|          | 0/336 [00:00<?, ? examples/s]"
            ]
          },
          "metadata": {},
          "output_type": "display_data"
        },
        {
          "data": {
            "text/plain": [
              "DatasetDict({\n",
              "    train: Dataset({\n",
              "        features: ['system', 'user', 'assistant', 'text', 'input_ids', 'attention_mask'],\n",
              "        num_rows: 3019\n",
              "    })\n",
              "    test: Dataset({\n",
              "        features: ['system', 'user', 'assistant', 'text', 'input_ids', 'attention_mask'],\n",
              "        num_rows: 336\n",
              "    })\n",
              "})"
            ]
          },
          "execution_count": 23,
          "metadata": {},
          "output_type": "execute_result"
        }
      ],
      "source": [
        "# Tokenize the dataset\n",
        "tokenized_dataset = dataset.map(lambda example : tokenizer(example['text']), batched=True)\n",
        "tokenized_dataset"
      ]
    },
    {
      "cell_type": "markdown",
      "metadata": {
        "id": "5qaKPwwrVeK8"
      },
      "source": [
        "# Set training arguments"
      ]
    },
    {
      "cell_type": "code",
      "execution_count": null,
      "metadata": {
        "id": "7-YIuop-kOCn"
      },
      "outputs": [],
      "source": [
        "# Define training arguments\n",
        "args = TrainingArguments(\n",
        "    output_dir = output_dir, \n",
        "    num_train_epochs = 5,\n",
        "\n",
        "    per_device_train_batch_size = 2,\n",
        "    per_device_eval_batch_size = 2,\n",
        "\n",
        "    gradient_accumulation_steps = 16,\n",
        "    max_grad_norm = 0.3,\n",
        "    weight_decay = 0.001, \n",
        "\n",
        "    learning_rate = 1e-5,\n",
        "    warmup_ratio = 0.03,\n",
        "\n",
        "    lr_scheduler_type = \"constant\", \n",
        "\n",
        "    evaluation_strategy = 'epoch',\n",
        "\n",
        "    save_steps = 25,\n",
        "    logging_first_step = True,\n",
        "    logging_steps = 5,\n",
        "\n",
        "    report_to=\"wandb\"\n",
        ")"
      ]
    },
    {
      "cell_type": "code",
      "execution_count": null,
      "metadata": {
        "id": "x9s7jX3MbwRh"
      },
      "outputs": [],
      "source": [
        "def decode_predictions(tokenizer: PreTrainedTokenizer, predictions: TransformersPredictionPipelineOutput ) -> dict:\n",
        "    \"\"\"\n",
        "    Decode model predictions and labels.\n",
        "\n",
        "    Args:\n",
        "        tokenizer (PreTrainedTokenizer): Tokenizer used for decoding.\n",
        "        predictions (TransformersPredictionPipelineOutput): Model predictions.\n",
        "\n",
        "    Returns:\n",
        "        dict: Decoded predictions and labels.\n",
        "    \"\"\"\n",
        "    # Decode model predictions\n",
        "    logits = predictions.predictions.argmax(axis=-1)\n",
        "    cleaned_logits = [list(filter(lambda x: x != 0, seq)) for seq in logits]\n",
        "    prediction_text = tokenizer.batch_decode(cleaned_logits, skip_special_tokens=True)\n",
        "\n",
        "    # Decode labels\n",
        "    labels = predictions.label_ids\n",
        "    cleaned_labels = [list(filter(lambda x: x != -100, seq)) for seq in labels]\n",
        "    decoded_labels = tokenizer.batch_decode(cleaned_labels, skip_special_tokens=True)\n",
        "\n",
        "    # Function to extract text from labels\n",
        "    get_text = lambda x,idx: x.split('<</SYS>>')[-1].strip().split('[/INST]')[idx].strip()\n",
        "\n",
        "    # Extract user input, labels, and predictions\n",
        "    user = list(map(lambda x: get_text(x,0), decoded_labels))\n",
        "    labels = list(map(lambda x:get_text(x,1), decoded_labels))\n",
        "    prediction_text = prediction_text\n",
        "\n",
        "    return {'user':user,\"labels\": labels, \"predictions\": prediction_text}\n",
        "\n",
        "\n",
        "class WandbPredictionProgressCallback(WandbCallback):\n",
        "    \"\"\"\n",
        "    Custom WandbCallback for logging sample predictions during training and evaluation.\n",
        "    \"\"\"\n",
        "    def __init__(self, trainer: Trainer , tokenizer: PreTrainedTokenizer , val_dataset: Dataset ,\n",
        "                 num_samples_eval: int =50, num_samples_on_save: int =30):\n",
        "        \"\"\"\n",
        "        Initializes the WandbPredictionProgressCallback.\n",
        "\n",
        "        Args:\n",
        "            trainer (Trainer): The Trainer object.\n",
        "            tokenizer (PreTrainedTokenizer): The tokenizer used for decoding.\n",
        "            val_dataset (Dataset): The validation dataset.\n",
        "            num_samples_eval (int): Number of samples to use for evaluation predictions.\n",
        "            num_samples_on_save (int): Number of samples to use for predictions during save checkpoints.\n",
        "\n",
        "        Attributes:\n",
        "            trainer (Trainer): The Trainer object.\n",
        "            tokenizer (PreTrainedTokenizer): Tokenizer used for decoding.\n",
        "            sample_dataset_eval (Dataset): Subset of validation dataset for evaluation.\n",
        "            sample_dataset_on_save (Dataset): Subset of validation dataset for predictions on save.\n",
        "            eval_table (wandb.Table): Wandb table for storing evaluation predictions.\n",
        "            on_save_table (wandb.Table): Wandb table for storing predictions on checkpoint save.\n",
        "\n",
        "        \"\"\"\n",
        "\n",
        "        super().__init__()\n",
        "        self.trainer = trainer\n",
        "        self.tokenizer = tokenizer\n",
        "        # Select a subset of validation dataset for evaluation and on-save predictions\n",
        "        self.sample_dataset_eval = val_dataset.select(range(num_samples_eval))\n",
        "        self.sample_dataset_on_save = val_dataset.select(range(num_samples_on_save))\n",
        "        # Create tables for storing predictions\n",
        "        columns = [\"user\", \"labels\", \"prediction\",\"epoch\"]\n",
        "        self.eval_table = wandb.Table(columns=columns)\n",
        "        self.on_save_table = wandb.Table(columns=columns)\n",
        "\n",
        "    def update_predictions_table(self, table: wandb.Table, predictions_df: pd.DataFrame) -> wandb.Table:\n",
        "        \"\"\"\n",
        "        Update a Wandb table with a predictions dataframe.\n",
        "\n",
        "        Args:\n",
        "            table (wandb.Table): Existing Wandb table.\n",
        "            predictions_df (pd.DataFrame): DataFrame containing predictions.\n",
        "\n",
        "        Returns:\n",
        "            wandb.Table: Updated wandb table.\n",
        "        \"\"\"\n",
        "        # Add data from predictions DataFrame to the table\n",
        "        for row in predictions_df.values:\n",
        "          table.add_data(*row)\n",
        "\n",
        "        # Create a new wandb.Table with updated data\n",
        "        new_table = wandb.Table(columns=table.columns, data=table.data)\n",
        "\n",
        "        return new_table\n",
        "\n",
        "\n",
        "    def on_evaluate(self, args: TrainingArguments, state: TrainerState, control: TrainerControl, **kwargs) -> None:\n",
        "\n",
        "        \"\"\"\n",
        "        Callback function called during evaluation to log sample predictions.\n",
        "\n",
        "        Args:\n",
        "            args (TrainingArguments): The training arguments.\n",
        "            state (TrainerState): The trainer state.\n",
        "            control (TrainerControl): The trainer control.\n",
        "            **kwargs: Additional keyword arguments.\n",
        "        \"\"\"\n",
        "        super().on_evaluate(args, state, control, **kwargs)\n",
        "        # Predict on a subset of validation dataset\n",
        "        predictions = self.trainer.predict(self.sample_dataset_eval)\n",
        "        # Decode predictions\n",
        "        predictions = decode_predictions(self.tokenizer, predictions)\n",
        "        # Convert predictions to DataFrame\n",
        "        predictions_df = pd.DataFrame(predictions)\n",
        "        # Add epoch information to the DataFrame\n",
        "        predictions_df[\"epoch\"] = state.epoch\n",
        "\n",
        "        # Create a wandb.Table from predictions DataFrame\n",
        "        records_table = self.update_predictions_table(self.eval_table, predictions_df)\n",
        "        # Log predictions to wandb\n",
        "        self._wandb.log({\"sample_predictions_eval\": records_table})\n",
        "\n",
        "    def on_save(self, args: TrainingArguments, state: TrainerState, control: TrainerControl, **kwargs) -> None:\n",
        "\n",
        "        \"\"\"\n",
        "        Callback function called during model saving to log sample predictions.\n",
        "\n",
        "        Args:\n",
        "            args (TrainingArguments): The training arguments.\n",
        "            state (TrainerState): The trainer state.\n",
        "            control (TrainerControl): The trainer control.\n",
        "            **kwargs: Additional keyword arguments.\n",
        "        \"\"\"\n",
        "        super().on_save(args, state, control, **kwargs)\n",
        "        # Predict on a subset of validation dataset\n",
        "        predictions = self.trainer.predict(self.sample_dataset_on_save)\n",
        "        # Decode predictions\n",
        "        predictions = decode_predictions(self.tokenizer, predictions)\n",
        "        # Convert predictions to DataFrame\n",
        "        predictions_df = pd.DataFrame(predictions)\n",
        "        # Add epoch information to the DataFrame\n",
        "        predictions_df[\"epoch\"] = state.epoch\n",
        "\n",
        "        # Create a wandb.Table from predictions DataFrame\n",
        "        records_table = self.update_predictions_table( self.on_save_table, predictions_df)\n",
        "        # Log predictions to wandb\n",
        "        self._wandb.log({\"sample_predictions_on_save\": records_table})\n",
        "\n",
        "\n"
      ]
    },
    {
      "cell_type": "code",
      "execution_count": null,
      "metadata": {
        "id": "J00KGSnrxSLO"
      },
      "outputs": [],
      "source": [
        "# Define data collator for language modeling\n",
        "data_collator = DataCollatorForLanguageModeling(tokenizer=tokenizer, mlm=False)"
      ]
    },
    {
      "cell_type": "code",
      "execution_count": null,
      "metadata": {
        "collapsed": true,
        "id": "vHRZu-hFj-fr"
      },
      "outputs": [],
      "source": [
        "# Initialize Trainer for model training\n",
        "trainer = Trainer(\n",
        "    lora_model,\n",
        "    args,\n",
        "    train_dataset=tokenized_dataset['train'],\n",
        "    eval_dataset=tokenized_dataset['test'],\n",
        "    tokenizer=tokenizer,\n",
        "    data_collator=data_collator\n",
        "\n",
        ")"
      ]
    },
    {
      "cell_type": "code",
      "execution_count": null,
      "metadata": {
        "id": "ZDHewD_ljpYB"
      },
      "outputs": [],
      "source": [
        "# Instantiate the WandbPredictionProgressCallback\n",
        "progress_callback = WandbPredictionProgressCallback(\n",
        "    trainer=trainer,\n",
        "    tokenizer=tokenizer,\n",
        "    val_dataset=tokenized_dataset[\"test\"],\n",
        ")\n",
        "# Add the callback to the trainer\n",
        "trainer.add_callback(progress_callback)"
      ]
    },
    {
      "cell_type": "code",
      "execution_count": null,
      "metadata": {
        "colab": {
          "base_uri": "https://localhost:8080/",
          "height": 1000
        },
        "id": "xYfetD819NbP",
        "outputId": "ea18f87e-09e4-4425-ee14-8ebb02cb1346"
      },
      "outputs": [
        {
          "name": "stderr",
          "output_type": "stream",
          "text": [
            "\u001b[34m\u001b[1mwandb\u001b[0m: Currently logged in as: \u001b[33malgolovanova\u001b[0m. Use \u001b[1m`wandb login --relogin`\u001b[0m to force relogin\n"
          ]
        },
        {
          "data": {
            "text/html": [
              "Tracking run with wandb version 0.17.0"
            ],
            "text/plain": [
              "<IPython.core.display.HTML object>"
            ]
          },
          "metadata": {},
          "output_type": "display_data"
        },
        {
          "data": {
            "text/html": [
              "Run data is saved locally in <code>/content/wandb/run-20240515_060057-hh3wu82d</code>"
            ],
            "text/plain": [
              "<IPython.core.display.HTML object>"
            ]
          },
          "metadata": {},
          "output_type": "display_data"
        },
        {
          "data": {
            "text/html": [
              "Syncing run <strong><a href='https://wandb.ai/algolovanova/llama_for_booking_travel/runs/hh3wu82d' target=\"_blank\">vocal-shape-2</a></strong> to <a href='https://wandb.ai/algolovanova/llama_for_booking_travel' target=\"_blank\">Weights & Biases</a> (<a href='https://wandb.me/run' target=\"_blank\">docs</a>)<br/>"
            ],
            "text/plain": [
              "<IPython.core.display.HTML object>"
            ]
          },
          "metadata": {},
          "output_type": "display_data"
        },
        {
          "data": {
            "text/html": [
              " View project at <a href='https://wandb.ai/algolovanova/llama_for_booking_travel' target=\"_blank\">https://wandb.ai/algolovanova/llama_for_booking_travel</a>"
            ],
            "text/plain": [
              "<IPython.core.display.HTML object>"
            ]
          },
          "metadata": {},
          "output_type": "display_data"
        },
        {
          "data": {
            "text/html": [
              " View run at <a href='https://wandb.ai/algolovanova/llama_for_booking_travel/runs/hh3wu82d' target=\"_blank\">https://wandb.ai/algolovanova/llama_for_booking_travel/runs/hh3wu82d</a>"
            ],
            "text/plain": [
              "<IPython.core.display.HTML object>"
            ]
          },
          "metadata": {},
          "output_type": "display_data"
        },
        {
          "data": {
            "text/html": [
              "\n",
              "    <div>\n",
              "      \n",
              "      <progress value='470' max='470' style='width:300px; height:20px; vertical-align: middle;'></progress>\n",
              "      [470/470 3:06:17, Epoch 4/5]\n",
              "    </div>\n",
              "    <table border=\"1\" class=\"dataframe\">\n",
              "  <thead>\n",
              " <tr style=\"text-align: left;\">\n",
              "      <th>Epoch</th>\n",
              "      <th>Training Loss</th>\n",
              "      <th>Validation Loss</th>\n",
              "    </tr>\n",
              "  </thead>\n",
              "  <tbody>\n",
              "    <tr>\n",
              "      <td>0</td>\n",
              "      <td>3.017200</td>\n",
              "      <td>2.939822</td>\n",
              "    </tr>\n",
              "    <tr>\n",
              "      <td>1</td>\n",
              "      <td>2.007900</td>\n",
              "      <td>1.966136</td>\n",
              "    </tr>\n",
              "    <tr>\n",
              "      <td>2</td>\n",
              "      <td>0.924200</td>\n",
              "      <td>0.870978</td>\n",
              "    </tr>\n",
              "    <tr>\n",
              "      <td>3</td>\n",
              "      <td>0.479600</td>\n",
              "      <td>0.480028</td>\n",
              "    </tr>\n",
              "    <tr>\n",
              "      <td>4</td>\n",
              "      <td>0.361400</td>\n",
              "      <td>0.362291</td>\n",
              "    </tr>\n",
              "  </tbody>\n",
              "</table><p>\n",
              "    <div>\n",
              "      \n",
              "      <progress value='25' max='25' style='width:300px; height:20px; vertical-align: middle;'></progress>\n",
              "      [25/25 00:17]\n",
              "    </div>\n",
              "    "
            ],
            "text/plain": [
              "<IPython.core.display.HTML object>"
            ]
          },
          "metadata": {},
          "output_type": "display_data"
        },
        {
          "name": "stderr",
          "output_type": "stream",
          "text": [
            "/usr/local/lib/python3.10/dist-packages/huggingface_hub/file_download.py:1132: FutureWarning: `resume_download` is deprecated and will be removed in version 1.0.0. Downloads always resume when possible. If you want to force a new download, use `force_download=True`.\n",
            "  warnings.warn(\n",
            "\u001b[34m\u001b[1mwandb\u001b[0m: Adding directory to artifact (/content/drive/MyDrive/llama_booking/checkpoint-25)... Done. 0.2s\n",
            "\u001b[34m\u001b[1mwandb\u001b[0m: Adding directory to artifact (/content/drive/MyDrive/llama_booking/checkpoint-25)... Done. 0.3s\n"
          ]
        },
        {
          "name": "stdout",
          "output_type": "stream",
          "text": [
            "Index(['user', 'labels', 'predictions', 'epoch'], dtype='object')\n"
          ]
        },
        {
          "name": "stderr",
          "output_type": "stream",
          "text": [
            "/usr/local/lib/python3.10/dist-packages/huggingface_hub/file_download.py:1132: FutureWarning: `resume_download` is deprecated and will be removed in version 1.0.0. Downloads always resume when possible. If you want to force a new download, use `force_download=True`.\n",
            "  warnings.warn(\n",
            "\u001b[34m\u001b[1mwandb\u001b[0m: Adding directory to artifact (/content/drive/MyDrive/llama_booking/checkpoint-50)... Done. 0.3s\n",
            "\u001b[34m\u001b[1mwandb\u001b[0m: Adding directory to artifact (/content/drive/MyDrive/llama_booking/checkpoint-50)... Done. 0.7s\n"
          ]
        },
        {
          "name": "stdout",
          "output_type": "stream",
          "text": [
            "Index(['user', 'labels', 'predictions', 'epoch'], dtype='object')\n"
          ]
        },
        {
          "name": "stderr",
          "output_type": "stream",
          "text": [
            "/usr/local/lib/python3.10/dist-packages/huggingface_hub/file_download.py:1132: FutureWarning: `resume_download` is deprecated and will be removed in version 1.0.0. Downloads always resume when possible. If you want to force a new download, use `force_download=True`.\n",
            "  warnings.warn(\n",
            "\u001b[34m\u001b[1mwandb\u001b[0m: Adding directory to artifact (/content/drive/MyDrive/llama_booking/checkpoint-75)... Done. 0.2s\n",
            "\u001b[34m\u001b[1mwandb\u001b[0m: Adding directory to artifact (/content/drive/MyDrive/llama_booking/checkpoint-75)... Done. 0.3s\n"
          ]
        },
        {
          "name": "stdout",
          "output_type": "stream",
          "text": [
            "Index(['user', 'labels', 'predictions', 'epoch'], dtype='object')\n"
          ]
        },
        {
          "name": "stderr",
          "output_type": "stream",
          "text": [
            "/usr/local/lib/python3.10/dist-packages/huggingface_hub/file_download.py:1132: FutureWarning: `resume_download` is deprecated and will be removed in version 1.0.0. Downloads always resume when possible. If you want to force a new download, use `force_download=True`.\n",
            "  warnings.warn(\n",
            "\u001b[34m\u001b[1mwandb\u001b[0m: Adding directory to artifact (/content/drive/MyDrive/llama_booking/checkpoint-100)... Done. 0.3s\n",
            "\u001b[34m\u001b[1mwandb\u001b[0m: Adding directory to artifact (/content/drive/MyDrive/llama_booking/checkpoint-100)... Done. 0.3s\n"
          ]
        },
        {
          "name": "stdout",
          "output_type": "stream",
          "text": [
            "Index(['user', 'labels', 'predictions', 'epoch'], dtype='object')\n"
          ]
        },
        {
          "name": "stderr",
          "output_type": "stream",
          "text": [
            "/usr/local/lib/python3.10/dist-packages/huggingface_hub/file_download.py:1132: FutureWarning: `resume_download` is deprecated and will be removed in version 1.0.0. Downloads always resume when possible. If you want to force a new download, use `force_download=True`.\n",
            "  warnings.warn(\n",
            "\u001b[34m\u001b[1mwandb\u001b[0m: Adding directory to artifact (/content/drive/MyDrive/llama_booking/checkpoint-125)... Done. 0.3s\n",
            "\u001b[34m\u001b[1mwandb\u001b[0m: Adding directory to artifact (/content/drive/MyDrive/llama_booking/checkpoint-125)... Done. 0.3s\n"
          ]
        },
        {
          "name": "stdout",
          "output_type": "stream",
          "text": [
            "Index(['user', 'labels', 'predictions', 'epoch'], dtype='object')\n"
          ]
        },
        {
          "name": "stderr",
          "output_type": "stream",
          "text": [
            "/usr/local/lib/python3.10/dist-packages/huggingface_hub/file_download.py:1132: FutureWarning: `resume_download` is deprecated and will be removed in version 1.0.0. Downloads always resume when possible. If you want to force a new download, use `force_download=True`.\n",
            "  warnings.warn(\n",
            "\u001b[34m\u001b[1mwandb\u001b[0m: Adding directory to artifact (/content/drive/MyDrive/llama_booking/checkpoint-150)... Done. 0.3s\n",
            "\u001b[34m\u001b[1mwandb\u001b[0m: Adding directory to artifact (/content/drive/MyDrive/llama_booking/checkpoint-150)... Done. 0.5s\n"
          ]
        },
        {
          "name": "stdout",
          "output_type": "stream",
          "text": [
            "Index(['user', 'labels', 'predictions', 'epoch'], dtype='object')\n"
          ]
        },
        {
          "name": "stderr",
          "output_type": "stream",
          "text": [
            "/usr/local/lib/python3.10/dist-packages/huggingface_hub/file_download.py:1132: FutureWarning: `resume_download` is deprecated and will be removed in version 1.0.0. Downloads always resume when possible. If you want to force a new download, use `force_download=True`.\n",
            "  warnings.warn(\n",
            "\u001b[34m\u001b[1mwandb\u001b[0m: Adding directory to artifact (/content/drive/MyDrive/llama_booking/checkpoint-175)... Done. 0.2s\n",
            "\u001b[34m\u001b[1mwandb\u001b[0m: Adding directory to artifact (/content/drive/MyDrive/llama_booking/checkpoint-175)... Done. 0.7s\n"
          ]
        },
        {
          "name": "stdout",
          "output_type": "stream",
          "text": [
            "Index(['user', 'labels', 'predictions', 'epoch'], dtype='object')\n"
          ]
        },
        {
          "name": "stderr",
          "output_type": "stream",
          "text": [
            "/usr/local/lib/python3.10/dist-packages/huggingface_hub/file_download.py:1132: FutureWarning: `resume_download` is deprecated and will be removed in version 1.0.0. Downloads always resume when possible. If you want to force a new download, use `force_download=True`.\n",
            "  warnings.warn(\n",
            "\u001b[34m\u001b[1mwandb\u001b[0m: Adding directory to artifact (/content/drive/MyDrive/llama_booking/checkpoint-200)... Done. 0.2s\n",
            "\u001b[34m\u001b[1mwandb\u001b[0m: Adding directory to artifact (/content/drive/MyDrive/llama_booking/checkpoint-200)... Done. 0.3s\n"
          ]
        },
        {
          "name": "stdout",
          "output_type": "stream",
          "text": [
            "Index(['user', 'labels', 'predictions', 'epoch'], dtype='object')\n"
          ]
        },
        {
          "name": "stderr",
          "output_type": "stream",
          "text": [
            "/usr/local/lib/python3.10/dist-packages/huggingface_hub/file_download.py:1132: FutureWarning: `resume_download` is deprecated and will be removed in version 1.0.0. Downloads always resume when possible. If you want to force a new download, use `force_download=True`.\n",
            "  warnings.warn(\n",
            "\u001b[34m\u001b[1mwandb\u001b[0m: Adding directory to artifact (/content/drive/MyDrive/llama_booking/checkpoint-225)... Done. 0.3s\n",
            "\u001b[34m\u001b[1mwandb\u001b[0m: Adding directory to artifact (/content/drive/MyDrive/llama_booking/checkpoint-225)... Done. 0.2s\n"
          ]
        },
        {
          "name": "stdout",
          "output_type": "stream",
          "text": [
            "Index(['user', 'labels', 'predictions', 'epoch'], dtype='object')\n"
          ]
        },
        {
          "name": "stderr",
          "output_type": "stream",
          "text": [
            "/usr/local/lib/python3.10/dist-packages/huggingface_hub/file_download.py:1132: FutureWarning: `resume_download` is deprecated and will be removed in version 1.0.0. Downloads always resume when possible. If you want to force a new download, use `force_download=True`.\n",
            "  warnings.warn(\n",
            "\u001b[34m\u001b[1mwandb\u001b[0m: Adding directory to artifact (/content/drive/MyDrive/llama_booking/checkpoint-250)... Done. 0.4s\n",
            "\u001b[34m\u001b[1mwandb\u001b[0m: Adding directory to artifact (/content/drive/MyDrive/llama_booking/checkpoint-250)... Done. 0.6s\n"
          ]
        },
        {
          "name": "stdout",
          "output_type": "stream",
          "text": [
            "Index(['user', 'labels', 'predictions', 'epoch'], dtype='object')\n"
          ]
        },
        {
          "name": "stderr",
          "output_type": "stream",
          "text": [
            "/usr/local/lib/python3.10/dist-packages/huggingface_hub/file_download.py:1132: FutureWarning: `resume_download` is deprecated and will be removed in version 1.0.0. Downloads always resume when possible. If you want to force a new download, use `force_download=True`.\n",
            "  warnings.warn(\n",
            "\u001b[34m\u001b[1mwandb\u001b[0m: Adding directory to artifact (/content/drive/MyDrive/llama_booking/checkpoint-275)... Done. 0.2s\n",
            "\u001b[34m\u001b[1mwandb\u001b[0m: Adding directory to artifact (/content/drive/MyDrive/llama_booking/checkpoint-275)... Done. 0.3s\n"
          ]
        },
        {
          "name": "stdout",
          "output_type": "stream",
          "text": [
            "Index(['user', 'labels', 'predictions', 'epoch'], dtype='object')\n"
          ]
        },
        {
          "name": "stderr",
          "output_type": "stream",
          "text": [
            "/usr/local/lib/python3.10/dist-packages/huggingface_hub/file_download.py:1132: FutureWarning: `resume_download` is deprecated and will be removed in version 1.0.0. Downloads always resume when possible. If you want to force a new download, use `force_download=True`.\n",
            "  warnings.warn(\n",
            "\u001b[34m\u001b[1mwandb\u001b[0m: Adding directory to artifact (/content/drive/MyDrive/llama_booking/checkpoint-300)... Done. 0.3s\n",
            "\u001b[34m\u001b[1mwandb\u001b[0m: Adding directory to artifact (/content/drive/MyDrive/llama_booking/checkpoint-300)... Done. 0.3s\n"
          ]
        },
        {
          "name": "stdout",
          "output_type": "stream",
          "text": [
            "Index(['user', 'labels', 'predictions', 'epoch'], dtype='object')\n"
          ]
        },
        {
          "name": "stderr",
          "output_type": "stream",
          "text": [
            "/usr/local/lib/python3.10/dist-packages/huggingface_hub/file_download.py:1132: FutureWarning: `resume_download` is deprecated and will be removed in version 1.0.0. Downloads always resume when possible. If you want to force a new download, use `force_download=True`.\n",
            "  warnings.warn(\n",
            "\u001b[34m\u001b[1mwandb\u001b[0m: Adding directory to artifact (/content/drive/MyDrive/llama_booking/checkpoint-325)... Done. 0.2s\n",
            "\u001b[34m\u001b[1mwandb\u001b[0m: Adding directory to artifact (/content/drive/MyDrive/llama_booking/checkpoint-325)... Done. 0.3s\n"
          ]
        },
        {
          "name": "stdout",
          "output_type": "stream",
          "text": [
            "Index(['user', 'labels', 'predictions', 'epoch'], dtype='object')\n"
          ]
        },
        {
          "name": "stderr",
          "output_type": "stream",
          "text": [
            "/usr/local/lib/python3.10/dist-packages/huggingface_hub/file_download.py:1132: FutureWarning: `resume_download` is deprecated and will be removed in version 1.0.0. Downloads always resume when possible. If you want to force a new download, use `force_download=True`.\n",
            "  warnings.warn(\n",
            "\u001b[34m\u001b[1mwandb\u001b[0m: Adding directory to artifact (/content/drive/MyDrive/llama_booking/checkpoint-350)... Done. 0.2s\n",
            "\u001b[34m\u001b[1mwandb\u001b[0m: Adding directory to artifact (/content/drive/MyDrive/llama_booking/checkpoint-350)... Done. 0.7s\n"
          ]
        },
        {
          "name": "stdout",
          "output_type": "stream",
          "text": [
            "Index(['user', 'labels', 'predictions', 'epoch'], dtype='object')\n"
          ]
        },
        {
          "name": "stderr",
          "output_type": "stream",
          "text": [
            "/usr/local/lib/python3.10/dist-packages/huggingface_hub/file_download.py:1132: FutureWarning: `resume_download` is deprecated and will be removed in version 1.0.0. Downloads always resume when possible. If you want to force a new download, use `force_download=True`.\n",
            "  warnings.warn(\n",
            "\u001b[34m\u001b[1mwandb\u001b[0m: Adding directory to artifact (/content/drive/MyDrive/llama_booking/checkpoint-375)... Done. 0.2s\n",
            "\u001b[34m\u001b[1mwandb\u001b[0m: Adding directory to artifact (/content/drive/MyDrive/llama_booking/checkpoint-375)... Done. 0.3s\n"
          ]
        },
        {
          "name": "stdout",
          "output_type": "stream",
          "text": [
            "Index(['user', 'labels', 'predictions', 'epoch'], dtype='object')\n"
          ]
        },
        {
          "name": "stderr",
          "output_type": "stream",
          "text": [
            "/usr/local/lib/python3.10/dist-packages/huggingface_hub/file_download.py:1132: FutureWarning: `resume_download` is deprecated and will be removed in version 1.0.0. Downloads always resume when possible. If you want to force a new download, use `force_download=True`.\n",
            "  warnings.warn(\n",
            "\u001b[34m\u001b[1mwandb\u001b[0m: Adding directory to artifact (/content/drive/MyDrive/llama_booking/checkpoint-400)... Done. 0.2s\n",
            "\u001b[34m\u001b[1mwandb\u001b[0m: Adding directory to artifact (/content/drive/MyDrive/llama_booking/checkpoint-400)... Done. 0.3s\n"
          ]
        },
        {
          "name": "stdout",
          "output_type": "stream",
          "text": [
            "Index(['user', 'labels', 'predictions', 'epoch'], dtype='object')\n"
          ]
        },
        {
          "name": "stderr",
          "output_type": "stream",
          "text": [
            "/usr/local/lib/python3.10/dist-packages/huggingface_hub/file_download.py:1132: FutureWarning: `resume_download` is deprecated and will be removed in version 1.0.0. Downloads always resume when possible. If you want to force a new download, use `force_download=True`.\n",
            "  warnings.warn(\n",
            "\u001b[34m\u001b[1mwandb\u001b[0m: Adding directory to artifact (/content/drive/MyDrive/llama_booking/checkpoint-425)... Done. 0.4s\n",
            "\u001b[34m\u001b[1mwandb\u001b[0m: Adding directory to artifact (/content/drive/MyDrive/llama_booking/checkpoint-425)... Done. 0.6s\n"
          ]
        },
        {
          "name": "stdout",
          "output_type": "stream",
          "text": [
            "Index(['user', 'labels', 'predictions', 'epoch'], dtype='object')\n"
          ]
        },
        {
          "name": "stderr",
          "output_type": "stream",
          "text": [
            "/usr/local/lib/python3.10/dist-packages/huggingface_hub/file_download.py:1132: FutureWarning: `resume_download` is deprecated and will be removed in version 1.0.0. Downloads always resume when possible. If you want to force a new download, use `force_download=True`.\n",
            "  warnings.warn(\n",
            "\u001b[34m\u001b[1mwandb\u001b[0m: Adding directory to artifact (/content/drive/MyDrive/llama_booking/checkpoint-450)... Done. 0.3s\n",
            "\u001b[34m\u001b[1mwandb\u001b[0m: Adding directory to artifact (/content/drive/MyDrive/llama_booking/checkpoint-450)... Done. 0.4s\n"
          ]
        },
        {
          "name": "stdout",
          "output_type": "stream",
          "text": [
            "Index(['user', 'labels', 'predictions', 'epoch'], dtype='object')\n"
          ]
        },
        {
          "name": "stderr",
          "output_type": "stream",
          "text": [
            "/usr/local/lib/python3.10/dist-packages/huggingface_hub/file_download.py:1132: FutureWarning: `resume_download` is deprecated and will be removed in version 1.0.0. Downloads always resume when possible. If you want to force a new download, use `force_download=True`.\n",
            "  warnings.warn(\n"
          ]
        },
        {
          "data": {
            "text/plain": [
              "TrainOutput(global_step=470, training_loss=1.650777107096733, metrics={'train_runtime': 11203.4241, 'train_samples_per_second': 1.347, 'train_steps_per_second': 0.042, 'total_flos': 1.912435607586816e+17, 'train_loss': 1.650777107096733, 'epoch': 4.9801324503311255})"
            ]
          },
          "execution_count": 31,
          "metadata": {},
          "output_type": "execute_result"
        }
      ],
      "source": [
        "# train\n",
        "trainer.train()"
      ]
    },
    {
      "cell_type": "code",
      "execution_count": null,
      "metadata": {
        "id": "oet2YPflhoJ2"
      },
      "outputs": [],
      "source": [
        "# Save model\n",
        "trainer.save_model(output_dir+'/last')"
      ]
    }
  ],
  "metadata": {
    "accelerator": "GPU",
    "colab": {
      "gpuType": "T4",
      "provenance": []
    },
    "kernelspec": {
      "display_name": "Python 3",
      "name": "python3"
    },
    "language_info": {
      "name": "python"
    },
    "widgets": {
      "application/vnd.jupyter.widget-state+json": {
        "01525a959b2f4803bc7d17904125299f": {
          "model_module": "@jupyter-widgets/controls",
          "model_module_version": "1.5.0",
          "model_name": "DescriptionStyleModel",
          "state": {
            "_model_module": "@jupyter-widgets/controls",
            "_model_module_version": "1.5.0",
            "_model_name": "DescriptionStyleModel",
            "_view_count": null,
            "_view_module": "@jupyter-widgets/base",
            "_view_module_version": "1.2.0",
            "_view_name": "StyleView",
            "description_width": ""
          }
        },
        "02aa094543f4431dbf9de260316dd59c": {
          "model_module": "@jupyter-widgets/controls",
          "model_module_version": "1.5.0",
          "model_name": "HBoxModel",
          "state": {
            "_dom_classes": [],
            "_model_module": "@jupyter-widgets/controls",
            "_model_module_version": "1.5.0",
            "_model_name": "HBoxModel",
            "_view_count": null,
            "_view_module": "@jupyter-widgets/controls",
            "_view_module_version": "1.5.0",
            "_view_name": "HBoxView",
            "box_style": "",
            "children": [
              "IPY_MODEL_428d5ea724334587b74e2c6be84708ed",
              "IPY_MODEL_38b60ee1c4ff465dbcee6c6d0ef43e98",
              "IPY_MODEL_1987d75847914a958f6f58c197640eeb"
            ],
            "layout": "IPY_MODEL_856e09089cb94f49bef613edd1a8f6d0"
          }
        },
        "02f0b572f82a444f97570f320633a598": {
          "model_module": "@jupyter-widgets/controls",
          "model_module_version": "1.5.0",
          "model_name": "FloatProgressModel",
          "state": {
            "_dom_classes": [],
            "_model_module": "@jupyter-widgets/controls",
            "_model_module_version": "1.5.0",
            "_model_name": "FloatProgressModel",
            "_view_count": null,
            "_view_module": "@jupyter-widgets/controls",
            "_view_module_version": "1.5.0",
            "_view_name": "ProgressView",
            "bar_style": "success",
            "description": "",
            "description_tooltip": null,
            "layout": "IPY_MODEL_98325f0662ce45538ee5f63859861b78",
            "max": 3019,
            "min": 0,
            "orientation": "horizontal",
            "style": "IPY_MODEL_149c1d9a783b4002b7e93347f0f399f0",
            "value": 3019
          }
        },
        "066dcdd65a0f4a7b88dfd51caf3771f4": {
          "model_module": "@jupyter-widgets/controls",
          "model_module_version": "1.5.0",
          "model_name": "HTMLModel",
          "state": {
            "_dom_classes": [],
            "_model_module": "@jupyter-widgets/controls",
            "_model_module_version": "1.5.0",
            "_model_name": "HTMLModel",
            "_view_count": null,
            "_view_module": "@jupyter-widgets/controls",
            "_view_module_version": "1.5.0",
            "_view_name": "HTMLView",
            "description": "",
            "description_tooltip": null,
            "layout": "IPY_MODEL_9b87eca2d26d406185e0f716058642ca",
            "placeholder": "​",
            "style": "IPY_MODEL_01525a959b2f4803bc7d17904125299f",
            "value": " 336/336 [00:00&lt;00:00, 2180.21 examples/s]"
          }
        },
        "0f75c64c1339430c92b0a0a6a233b4a1": {
          "model_module": "@jupyter-widgets/base",
          "model_module_version": "1.2.0",
          "model_name": "LayoutModel",
          "state": {
            "_model_module": "@jupyter-widgets/base",
            "_model_module_version": "1.2.0",
            "_model_name": "LayoutModel",
            "_view_count": null,
            "_view_module": "@jupyter-widgets/base",
            "_view_module_version": "1.2.0",
            "_view_name": "LayoutView",
            "align_content": null,
            "align_items": null,
            "align_self": null,
            "border": null,
            "bottom": null,
            "display": null,
            "flex": null,
            "flex_flow": null,
            "grid_area": null,
            "grid_auto_columns": null,
            "grid_auto_flow": null,
            "grid_auto_rows": null,
            "grid_column": null,
            "grid_gap": null,
            "grid_row": null,
            "grid_template_areas": null,
            "grid_template_columns": null,
            "grid_template_rows": null,
            "height": null,
            "justify_content": null,
            "justify_items": null,
            "left": null,
            "margin": null,
            "max_height": null,
            "max_width": null,
            "min_height": null,
            "min_width": null,
            "object_fit": null,
            "object_position": null,
            "order": null,
            "overflow": null,
            "overflow_x": null,
            "overflow_y": null,
            "padding": null,
            "right": null,
            "top": null,
            "visibility": null,
            "width": null
          }
        },
        "149c1d9a783b4002b7e93347f0f399f0": {
          "model_module": "@jupyter-widgets/controls",
          "model_module_version": "1.5.0",
          "model_name": "ProgressStyleModel",
          "state": {
            "_model_module": "@jupyter-widgets/controls",
            "_model_module_version": "1.5.0",
            "_model_name": "ProgressStyleModel",
            "_view_count": null,
            "_view_module": "@jupyter-widgets/base",
            "_view_module_version": "1.2.0",
            "_view_name": "StyleView",
            "bar_color": null,
            "description_width": ""
          }
        },
        "14d2771c737a479298cf43814ad955c9": {
          "model_module": "@jupyter-widgets/controls",
          "model_module_version": "1.5.0",
          "model_name": "HBoxModel",
          "state": {
            "_dom_classes": [],
            "_model_module": "@jupyter-widgets/controls",
            "_model_module_version": "1.5.0",
            "_model_name": "HBoxModel",
            "_view_count": null,
            "_view_module": "@jupyter-widgets/controls",
            "_view_module_version": "1.5.0",
            "_view_name": "HBoxView",
            "box_style": "",
            "children": [
              "IPY_MODEL_8e21fe2f72764b6d9aa0b49cd65c7932",
              "IPY_MODEL_02f0b572f82a444f97570f320633a598",
              "IPY_MODEL_2c6f7f7efedb44be99714d06e02a9bde"
            ],
            "layout": "IPY_MODEL_6f8043cf6d47418ab481561f1bb72bbd"
          }
        },
        "1987d75847914a958f6f58c197640eeb": {
          "model_module": "@jupyter-widgets/controls",
          "model_module_version": "1.5.0",
          "model_name": "HTMLModel",
          "state": {
            "_dom_classes": [],
            "_model_module": "@jupyter-widgets/controls",
            "_model_module_version": "1.5.0",
            "_model_name": "HTMLModel",
            "_view_count": null,
            "_view_module": "@jupyter-widgets/controls",
            "_view_module_version": "1.5.0",
            "_view_name": "HTMLView",
            "description": "",
            "description_tooltip": null,
            "layout": "IPY_MODEL_9671116fd5d9440bae00687fdc00fbe5",
            "placeholder": "​",
            "style": "IPY_MODEL_63f39c94816b4432b6bda2dc3e94ad21",
            "value": " 3/3 [01:04&lt;00:00, 20.58s/it]"
          }
        },
        "210e49aeef3d4e7ba5f1e9cedd68b148": {
          "model_module": "@jupyter-widgets/base",
          "model_module_version": "1.2.0",
          "model_name": "LayoutModel",
          "state": {
            "_model_module": "@jupyter-widgets/base",
            "_model_module_version": "1.2.0",
            "_model_name": "LayoutModel",
            "_view_count": null,
            "_view_module": "@jupyter-widgets/base",
            "_view_module_version": "1.2.0",
            "_view_name": "LayoutView",
            "align_content": null,
            "align_items": null,
            "align_self": null,
            "border": null,
            "bottom": null,
            "display": null,
            "flex": null,
            "flex_flow": null,
            "grid_area": null,
            "grid_auto_columns": null,
            "grid_auto_flow": null,
            "grid_auto_rows": null,
            "grid_column": null,
            "grid_gap": null,
            "grid_row": null,
            "grid_template_areas": null,
            "grid_template_columns": null,
            "grid_template_rows": null,
            "height": null,
            "justify_content": null,
            "justify_items": null,
            "left": null,
            "margin": null,
            "max_height": null,
            "max_width": null,
            "min_height": null,
            "min_width": null,
            "object_fit": null,
            "object_position": null,
            "order": null,
            "overflow": null,
            "overflow_x": null,
            "overflow_y": null,
            "padding": null,
            "right": null,
            "top": null,
            "visibility": null,
            "width": null
          }
        },
        "2c6f7f7efedb44be99714d06e02a9bde": {
          "model_module": "@jupyter-widgets/controls",
          "model_module_version": "1.5.0",
          "model_name": "HTMLModel",
          "state": {
            "_dom_classes": [],
            "_model_module": "@jupyter-widgets/controls",
            "_model_module_version": "1.5.0",
            "_model_name": "HTMLModel",
            "_view_count": null,
            "_view_module": "@jupyter-widgets/controls",
            "_view_module_version": "1.5.0",
            "_view_name": "HTMLView",
            "description": "",
            "description_tooltip": null,
            "layout": "IPY_MODEL_cd1f112d093c4bde90d53aa442c84020",
            "placeholder": "​",
            "style": "IPY_MODEL_f29aa7b8733e495ba7c1d9061b9be3e9",
            "value": " 3019/3019 [00:02&lt;00:00, 1432.19 examples/s]"
          }
        },
        "38b60ee1c4ff465dbcee6c6d0ef43e98": {
          "model_module": "@jupyter-widgets/controls",
          "model_module_version": "1.5.0",
          "model_name": "FloatProgressModel",
          "state": {
            "_dom_classes": [],
            "_model_module": "@jupyter-widgets/controls",
            "_model_module_version": "1.5.0",
            "_model_name": "FloatProgressModel",
            "_view_count": null,
            "_view_module": "@jupyter-widgets/controls",
            "_view_module_version": "1.5.0",
            "_view_name": "ProgressView",
            "bar_style": "success",
            "description": "",
            "description_tooltip": null,
            "layout": "IPY_MODEL_210e49aeef3d4e7ba5f1e9cedd68b148",
            "max": 3,
            "min": 0,
            "orientation": "horizontal",
            "style": "IPY_MODEL_c1394350b6034240bce387620e6d2560",
            "value": 3
          }
        },
        "3e16ef67d19242eb95a4cfa9fed84810": {
          "model_module": "@jupyter-widgets/base",
          "model_module_version": "1.2.0",
          "model_name": "LayoutModel",
          "state": {
            "_model_module": "@jupyter-widgets/base",
            "_model_module_version": "1.2.0",
            "_model_name": "LayoutModel",
            "_view_count": null,
            "_view_module": "@jupyter-widgets/base",
            "_view_module_version": "1.2.0",
            "_view_name": "LayoutView",
            "align_content": null,
            "align_items": null,
            "align_self": null,
            "border": null,
            "bottom": null,
            "display": null,
            "flex": null,
            "flex_flow": null,
            "grid_area": null,
            "grid_auto_columns": null,
            "grid_auto_flow": null,
            "grid_auto_rows": null,
            "grid_column": null,
            "grid_gap": null,
            "grid_row": null,
            "grid_template_areas": null,
            "grid_template_columns": null,
            "grid_template_rows": null,
            "height": null,
            "justify_content": null,
            "justify_items": null,
            "left": null,
            "margin": null,
            "max_height": null,
            "max_width": null,
            "min_height": null,
            "min_width": null,
            "object_fit": null,
            "object_position": null,
            "order": null,
            "overflow": null,
            "overflow_x": null,
            "overflow_y": null,
            "padding": null,
            "right": null,
            "top": null,
            "visibility": null,
            "width": null
          }
        },
        "41a7ffb764c84e88b436c869dae10e45": {
          "model_module": "@jupyter-widgets/controls",
          "model_module_version": "1.5.0",
          "model_name": "ProgressStyleModel",
          "state": {
            "_model_module": "@jupyter-widgets/controls",
            "_model_module_version": "1.5.0",
            "_model_name": "ProgressStyleModel",
            "_view_count": null,
            "_view_module": "@jupyter-widgets/base",
            "_view_module_version": "1.2.0",
            "_view_name": "StyleView",
            "bar_color": null,
            "description_width": ""
          }
        },
        "428d5ea724334587b74e2c6be84708ed": {
          "model_module": "@jupyter-widgets/controls",
          "model_module_version": "1.5.0",
          "model_name": "HTMLModel",
          "state": {
            "_dom_classes": [],
            "_model_module": "@jupyter-widgets/controls",
            "_model_module_version": "1.5.0",
            "_model_name": "HTMLModel",
            "_view_count": null,
            "_view_module": "@jupyter-widgets/controls",
            "_view_module_version": "1.5.0",
            "_view_name": "HTMLView",
            "description": "",
            "description_tooltip": null,
            "layout": "IPY_MODEL_7779d7dd9f924f53b18cc9dc674817a9",
            "placeholder": "​",
            "style": "IPY_MODEL_4d00b1272dc747c982493d5dc131c335",
            "value": "Loading checkpoint shards: 100%"
          }
        },
        "45ef1322ecba4307ba506e4406d7d3e8": {
          "model_module": "@jupyter-widgets/controls",
          "model_module_version": "1.5.0",
          "model_name": "DescriptionStyleModel",
          "state": {
            "_model_module": "@jupyter-widgets/controls",
            "_model_module_version": "1.5.0",
            "_model_name": "DescriptionStyleModel",
            "_view_count": null,
            "_view_module": "@jupyter-widgets/base",
            "_view_module_version": "1.2.0",
            "_view_name": "StyleView",
            "description_width": ""
          }
        },
        "4d00b1272dc747c982493d5dc131c335": {
          "model_module": "@jupyter-widgets/controls",
          "model_module_version": "1.5.0",
          "model_name": "DescriptionStyleModel",
          "state": {
            "_model_module": "@jupyter-widgets/controls",
            "_model_module_version": "1.5.0",
            "_model_name": "DescriptionStyleModel",
            "_view_count": null,
            "_view_module": "@jupyter-widgets/base",
            "_view_module_version": "1.2.0",
            "_view_name": "StyleView",
            "description_width": ""
          }
        },
        "5bda635aee0e44f494cfabca7551fc7a": {
          "model_module": "@jupyter-widgets/base",
          "model_module_version": "1.2.0",
          "model_name": "LayoutModel",
          "state": {
            "_model_module": "@jupyter-widgets/base",
            "_model_module_version": "1.2.0",
            "_model_name": "LayoutModel",
            "_view_count": null,
            "_view_module": "@jupyter-widgets/base",
            "_view_module_version": "1.2.0",
            "_view_name": "LayoutView",
            "align_content": null,
            "align_items": null,
            "align_self": null,
            "border": null,
            "bottom": null,
            "display": null,
            "flex": null,
            "flex_flow": null,
            "grid_area": null,
            "grid_auto_columns": null,
            "grid_auto_flow": null,
            "grid_auto_rows": null,
            "grid_column": null,
            "grid_gap": null,
            "grid_row": null,
            "grid_template_areas": null,
            "grid_template_columns": null,
            "grid_template_rows": null,
            "height": null,
            "justify_content": null,
            "justify_items": null,
            "left": null,
            "margin": null,
            "max_height": null,
            "max_width": null,
            "min_height": null,
            "min_width": null,
            "object_fit": null,
            "object_position": null,
            "order": null,
            "overflow": null,
            "overflow_x": null,
            "overflow_y": null,
            "padding": null,
            "right": null,
            "top": null,
            "visibility": null,
            "width": null
          }
        },
        "63f39c94816b4432b6bda2dc3e94ad21": {
          "model_module": "@jupyter-widgets/controls",
          "model_module_version": "1.5.0",
          "model_name": "DescriptionStyleModel",
          "state": {
            "_model_module": "@jupyter-widgets/controls",
            "_model_module_version": "1.5.0",
            "_model_name": "DescriptionStyleModel",
            "_view_count": null,
            "_view_module": "@jupyter-widgets/base",
            "_view_module_version": "1.2.0",
            "_view_name": "StyleView",
            "description_width": ""
          }
        },
        "6bda24c77dd6462fb484ac9d275a1e38": {
          "model_module": "@jupyter-widgets/base",
          "model_module_version": "1.2.0",
          "model_name": "LayoutModel",
          "state": {
            "_model_module": "@jupyter-widgets/base",
            "_model_module_version": "1.2.0",
            "_model_name": "LayoutModel",
            "_view_count": null,
            "_view_module": "@jupyter-widgets/base",
            "_view_module_version": "1.2.0",
            "_view_name": "LayoutView",
            "align_content": null,
            "align_items": null,
            "align_self": null,
            "border": null,
            "bottom": null,
            "display": null,
            "flex": null,
            "flex_flow": null,
            "grid_area": null,
            "grid_auto_columns": null,
            "grid_auto_flow": null,
            "grid_auto_rows": null,
            "grid_column": null,
            "grid_gap": null,
            "grid_row": null,
            "grid_template_areas": null,
            "grid_template_columns": null,
            "grid_template_rows": null,
            "height": null,
            "justify_content": null,
            "justify_items": null,
            "left": null,
            "margin": null,
            "max_height": null,
            "max_width": null,
            "min_height": null,
            "min_width": null,
            "object_fit": null,
            "object_position": null,
            "order": null,
            "overflow": null,
            "overflow_x": null,
            "overflow_y": null,
            "padding": null,
            "right": null,
            "top": null,
            "visibility": null,
            "width": null
          }
        },
        "6f8043cf6d47418ab481561f1bb72bbd": {
          "model_module": "@jupyter-widgets/base",
          "model_module_version": "1.2.0",
          "model_name": "LayoutModel",
          "state": {
            "_model_module": "@jupyter-widgets/base",
            "_model_module_version": "1.2.0",
            "_model_name": "LayoutModel",
            "_view_count": null,
            "_view_module": "@jupyter-widgets/base",
            "_view_module_version": "1.2.0",
            "_view_name": "LayoutView",
            "align_content": null,
            "align_items": null,
            "align_self": null,
            "border": null,
            "bottom": null,
            "display": null,
            "flex": null,
            "flex_flow": null,
            "grid_area": null,
            "grid_auto_columns": null,
            "grid_auto_flow": null,
            "grid_auto_rows": null,
            "grid_column": null,
            "grid_gap": null,
            "grid_row": null,
            "grid_template_areas": null,
            "grid_template_columns": null,
            "grid_template_rows": null,
            "height": null,
            "justify_content": null,
            "justify_items": null,
            "left": null,
            "margin": null,
            "max_height": null,
            "max_width": null,
            "min_height": null,
            "min_width": null,
            "object_fit": null,
            "object_position": null,
            "order": null,
            "overflow": null,
            "overflow_x": null,
            "overflow_y": null,
            "padding": null,
            "right": null,
            "top": null,
            "visibility": null,
            "width": null
          }
        },
        "7779d7dd9f924f53b18cc9dc674817a9": {
          "model_module": "@jupyter-widgets/base",
          "model_module_version": "1.2.0",
          "model_name": "LayoutModel",
          "state": {
            "_model_module": "@jupyter-widgets/base",
            "_model_module_version": "1.2.0",
            "_model_name": "LayoutModel",
            "_view_count": null,
            "_view_module": "@jupyter-widgets/base",
            "_view_module_version": "1.2.0",
            "_view_name": "LayoutView",
            "align_content": null,
            "align_items": null,
            "align_self": null,
            "border": null,
            "bottom": null,
            "display": null,
            "flex": null,
            "flex_flow": null,
            "grid_area": null,
            "grid_auto_columns": null,
            "grid_auto_flow": null,
            "grid_auto_rows": null,
            "grid_column": null,
            "grid_gap": null,
            "grid_row": null,
            "grid_template_areas": null,
            "grid_template_columns": null,
            "grid_template_rows": null,
            "height": null,
            "justify_content": null,
            "justify_items": null,
            "left": null,
            "margin": null,
            "max_height": null,
            "max_width": null,
            "min_height": null,
            "min_width": null,
            "object_fit": null,
            "object_position": null,
            "order": null,
            "overflow": null,
            "overflow_x": null,
            "overflow_y": null,
            "padding": null,
            "right": null,
            "top": null,
            "visibility": null,
            "width": null
          }
        },
        "856e09089cb94f49bef613edd1a8f6d0": {
          "model_module": "@jupyter-widgets/base",
          "model_module_version": "1.2.0",
          "model_name": "LayoutModel",
          "state": {
            "_model_module": "@jupyter-widgets/base",
            "_model_module_version": "1.2.0",
            "_model_name": "LayoutModel",
            "_view_count": null,
            "_view_module": "@jupyter-widgets/base",
            "_view_module_version": "1.2.0",
            "_view_name": "LayoutView",
            "align_content": null,
            "align_items": null,
            "align_self": null,
            "border": null,
            "bottom": null,
            "display": null,
            "flex": null,
            "flex_flow": null,
            "grid_area": null,
            "grid_auto_columns": null,
            "grid_auto_flow": null,
            "grid_auto_rows": null,
            "grid_column": null,
            "grid_gap": null,
            "grid_row": null,
            "grid_template_areas": null,
            "grid_template_columns": null,
            "grid_template_rows": null,
            "height": null,
            "justify_content": null,
            "justify_items": null,
            "left": null,
            "margin": null,
            "max_height": null,
            "max_width": null,
            "min_height": null,
            "min_width": null,
            "object_fit": null,
            "object_position": null,
            "order": null,
            "overflow": null,
            "overflow_x": null,
            "overflow_y": null,
            "padding": null,
            "right": null,
            "top": null,
            "visibility": null,
            "width": null
          }
        },
        "8e21fe2f72764b6d9aa0b49cd65c7932": {
          "model_module": "@jupyter-widgets/controls",
          "model_module_version": "1.5.0",
          "model_name": "HTMLModel",
          "state": {
            "_dom_classes": [],
            "_model_module": "@jupyter-widgets/controls",
            "_model_module_version": "1.5.0",
            "_model_name": "HTMLModel",
            "_view_count": null,
            "_view_module": "@jupyter-widgets/controls",
            "_view_module_version": "1.5.0",
            "_view_name": "HTMLView",
            "description": "",
            "description_tooltip": null,
            "layout": "IPY_MODEL_6bda24c77dd6462fb484ac9d275a1e38",
            "placeholder": "​",
            "style": "IPY_MODEL_45ef1322ecba4307ba506e4406d7d3e8",
            "value": "Map: 100%"
          }
        },
        "93067ab03a8f4b9296c54fb6dd9682b8": {
          "model_module": "@jupyter-widgets/controls",
          "model_module_version": "1.5.0",
          "model_name": "HBoxModel",
          "state": {
            "_dom_classes": [],
            "_model_module": "@jupyter-widgets/controls",
            "_model_module_version": "1.5.0",
            "_model_name": "HBoxModel",
            "_view_count": null,
            "_view_module": "@jupyter-widgets/controls",
            "_view_module_version": "1.5.0",
            "_view_name": "HBoxView",
            "box_style": "",
            "children": [
              "IPY_MODEL_b4999442f9ab4a06836664c8bb371934",
              "IPY_MODEL_bfc606c2ae974172b702b24231a6d05a",
              "IPY_MODEL_066dcdd65a0f4a7b88dfd51caf3771f4"
            ],
            "layout": "IPY_MODEL_3e16ef67d19242eb95a4cfa9fed84810"
          }
        },
        "9671116fd5d9440bae00687fdc00fbe5": {
          "model_module": "@jupyter-widgets/base",
          "model_module_version": "1.2.0",
          "model_name": "LayoutModel",
          "state": {
            "_model_module": "@jupyter-widgets/base",
            "_model_module_version": "1.2.0",
            "_model_name": "LayoutModel",
            "_view_count": null,
            "_view_module": "@jupyter-widgets/base",
            "_view_module_version": "1.2.0",
            "_view_name": "LayoutView",
            "align_content": null,
            "align_items": null,
            "align_self": null,
            "border": null,
            "bottom": null,
            "display": null,
            "flex": null,
            "flex_flow": null,
            "grid_area": null,
            "grid_auto_columns": null,
            "grid_auto_flow": null,
            "grid_auto_rows": null,
            "grid_column": null,
            "grid_gap": null,
            "grid_row": null,
            "grid_template_areas": null,
            "grid_template_columns": null,
            "grid_template_rows": null,
            "height": null,
            "justify_content": null,
            "justify_items": null,
            "left": null,
            "margin": null,
            "max_height": null,
            "max_width": null,
            "min_height": null,
            "min_width": null,
            "object_fit": null,
            "object_position": null,
            "order": null,
            "overflow": null,
            "overflow_x": null,
            "overflow_y": null,
            "padding": null,
            "right": null,
            "top": null,
            "visibility": null,
            "width": null
          }
        },
        "98325f0662ce45538ee5f63859861b78": {
          "model_module": "@jupyter-widgets/base",
          "model_module_version": "1.2.0",
          "model_name": "LayoutModel",
          "state": {
            "_model_module": "@jupyter-widgets/base",
            "_model_module_version": "1.2.0",
            "_model_name": "LayoutModel",
            "_view_count": null,
            "_view_module": "@jupyter-widgets/base",
            "_view_module_version": "1.2.0",
            "_view_name": "LayoutView",
            "align_content": null,
            "align_items": null,
            "align_self": null,
            "border": null,
            "bottom": null,
            "display": null,
            "flex": null,
            "flex_flow": null,
            "grid_area": null,
            "grid_auto_columns": null,
            "grid_auto_flow": null,
            "grid_auto_rows": null,
            "grid_column": null,
            "grid_gap": null,
            "grid_row": null,
            "grid_template_areas": null,
            "grid_template_columns": null,
            "grid_template_rows": null,
            "height": null,
            "justify_content": null,
            "justify_items": null,
            "left": null,
            "margin": null,
            "max_height": null,
            "max_width": null,
            "min_height": null,
            "min_width": null,
            "object_fit": null,
            "object_position": null,
            "order": null,
            "overflow": null,
            "overflow_x": null,
            "overflow_y": null,
            "padding": null,
            "right": null,
            "top": null,
            "visibility": null,
            "width": null
          }
        },
        "9b87eca2d26d406185e0f716058642ca": {
          "model_module": "@jupyter-widgets/base",
          "model_module_version": "1.2.0",
          "model_name": "LayoutModel",
          "state": {
            "_model_module": "@jupyter-widgets/base",
            "_model_module_version": "1.2.0",
            "_model_name": "LayoutModel",
            "_view_count": null,
            "_view_module": "@jupyter-widgets/base",
            "_view_module_version": "1.2.0",
            "_view_name": "LayoutView",
            "align_content": null,
            "align_items": null,
            "align_self": null,
            "border": null,
            "bottom": null,
            "display": null,
            "flex": null,
            "flex_flow": null,
            "grid_area": null,
            "grid_auto_columns": null,
            "grid_auto_flow": null,
            "grid_auto_rows": null,
            "grid_column": null,
            "grid_gap": null,
            "grid_row": null,
            "grid_template_areas": null,
            "grid_template_columns": null,
            "grid_template_rows": null,
            "height": null,
            "justify_content": null,
            "justify_items": null,
            "left": null,
            "margin": null,
            "max_height": null,
            "max_width": null,
            "min_height": null,
            "min_width": null,
            "object_fit": null,
            "object_position": null,
            "order": null,
            "overflow": null,
            "overflow_x": null,
            "overflow_y": null,
            "padding": null,
            "right": null,
            "top": null,
            "visibility": null,
            "width": null
          }
        },
        "aa2ead83c39f4e65bafcb12cb057b34d": {
          "model_module": "@jupyter-widgets/controls",
          "model_module_version": "1.5.0",
          "model_name": "DescriptionStyleModel",
          "state": {
            "_model_module": "@jupyter-widgets/controls",
            "_model_module_version": "1.5.0",
            "_model_name": "DescriptionStyleModel",
            "_view_count": null,
            "_view_module": "@jupyter-widgets/base",
            "_view_module_version": "1.2.0",
            "_view_name": "StyleView",
            "description_width": ""
          }
        },
        "b4999442f9ab4a06836664c8bb371934": {
          "model_module": "@jupyter-widgets/controls",
          "model_module_version": "1.5.0",
          "model_name": "HTMLModel",
          "state": {
            "_dom_classes": [],
            "_model_module": "@jupyter-widgets/controls",
            "_model_module_version": "1.5.0",
            "_model_name": "HTMLModel",
            "_view_count": null,
            "_view_module": "@jupyter-widgets/controls",
            "_view_module_version": "1.5.0",
            "_view_name": "HTMLView",
            "description": "",
            "description_tooltip": null,
            "layout": "IPY_MODEL_0f75c64c1339430c92b0a0a6a233b4a1",
            "placeholder": "​",
            "style": "IPY_MODEL_aa2ead83c39f4e65bafcb12cb057b34d",
            "value": "Map: 100%"
          }
        },
        "bfc606c2ae974172b702b24231a6d05a": {
          "model_module": "@jupyter-widgets/controls",
          "model_module_version": "1.5.0",
          "model_name": "FloatProgressModel",
          "state": {
            "_dom_classes": [],
            "_model_module": "@jupyter-widgets/controls",
            "_model_module_version": "1.5.0",
            "_model_name": "FloatProgressModel",
            "_view_count": null,
            "_view_module": "@jupyter-widgets/controls",
            "_view_module_version": "1.5.0",
            "_view_name": "ProgressView",
            "bar_style": "success",
            "description": "",
            "description_tooltip": null,
            "layout": "IPY_MODEL_5bda635aee0e44f494cfabca7551fc7a",
            "max": 336,
            "min": 0,
            "orientation": "horizontal",
            "style": "IPY_MODEL_41a7ffb764c84e88b436c869dae10e45",
            "value": 336
          }
        },
        "c1394350b6034240bce387620e6d2560": {
          "model_module": "@jupyter-widgets/controls",
          "model_module_version": "1.5.0",
          "model_name": "ProgressStyleModel",
          "state": {
            "_model_module": "@jupyter-widgets/controls",
            "_model_module_version": "1.5.0",
            "_model_name": "ProgressStyleModel",
            "_view_count": null,
            "_view_module": "@jupyter-widgets/base",
            "_view_module_version": "1.2.0",
            "_view_name": "StyleView",
            "bar_color": null,
            "description_width": ""
          }
        },
        "cd1f112d093c4bde90d53aa442c84020": {
          "model_module": "@jupyter-widgets/base",
          "model_module_version": "1.2.0",
          "model_name": "LayoutModel",
          "state": {
            "_model_module": "@jupyter-widgets/base",
            "_model_module_version": "1.2.0",
            "_model_name": "LayoutModel",
            "_view_count": null,
            "_view_module": "@jupyter-widgets/base",
            "_view_module_version": "1.2.0",
            "_view_name": "LayoutView",
            "align_content": null,
            "align_items": null,
            "align_self": null,
            "border": null,
            "bottom": null,
            "display": null,
            "flex": null,
            "flex_flow": null,
            "grid_area": null,
            "grid_auto_columns": null,
            "grid_auto_flow": null,
            "grid_auto_rows": null,
            "grid_column": null,
            "grid_gap": null,
            "grid_row": null,
            "grid_template_areas": null,
            "grid_template_columns": null,
            "grid_template_rows": null,
            "height": null,
            "justify_content": null,
            "justify_items": null,
            "left": null,
            "margin": null,
            "max_height": null,
            "max_width": null,
            "min_height": null,
            "min_width": null,
            "object_fit": null,
            "object_position": null,
            "order": null,
            "overflow": null,
            "overflow_x": null,
            "overflow_y": null,
            "padding": null,
            "right": null,
            "top": null,
            "visibility": null,
            "width": null
          }
        },
        "f29aa7b8733e495ba7c1d9061b9be3e9": {
          "model_module": "@jupyter-widgets/controls",
          "model_module_version": "1.5.0",
          "model_name": "DescriptionStyleModel",
          "state": {
            "_model_module": "@jupyter-widgets/controls",
            "_model_module_version": "1.5.0",
            "_model_name": "DescriptionStyleModel",
            "_view_count": null,
            "_view_module": "@jupyter-widgets/base",
            "_view_module_version": "1.2.0",
            "_view_name": "StyleView",
            "description_width": ""
          }
        }
      }
    }
  },
  "nbformat": 4,
  "nbformat_minor": 0
}
